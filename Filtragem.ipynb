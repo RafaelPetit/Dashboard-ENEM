{
 "cells": [
  {
   "cell_type": "code",
   "execution_count": 1,
   "metadata": {},
   "outputs": [],
   "source": [
    "import pandas as pd"
   ]
  },
  {
   "cell_type": "code",
   "execution_count": 4,
   "metadata": {},
   "outputs": [],
   "source": [
    "colunas_desejadas = [\n",
    "'TP_FAIXA_ETARIA',\n",
    "'TP_SEXO',\n",
    "'TP_ESTADO_CIVIL',\n",
    "'TP_COR_RACA',\n",
    "'TP_DEPENDENCIA_ADM_ESC',\n",
    "'TP_ST_CONCLUSAO',\n",
    "'SG_UF_PROVA',\n",
    "'TP_PRESENCA_CN',\n",
    "'TP_PRESENCA_CH',\n",
    "'TP_PRESENCA_LC',\n",
    "'TP_PRESENCA_MT',\n",
    "'NU_NOTA_CN',\n",
    "'NU_NOTA_CH',\n",
    "'NU_NOTA_LC',\n",
    "'NU_NOTA_MT',\n",
    "'NU_NOTA_REDACAO',\n",
    "'TP_PRESENCA_GERAL',\n",
    "'TP_ANO_CONCLUIU',\n",
    "'NU_DESEMPENHO',\n",
    "'NU_INFRAESTRUTURA',\n",
    "'NU_MEDIA_GERAL',\n",
    "'Q001',\n",
    "'Q002',\n",
    "'Q005',\n",
    "'Q006',\n",
    "'Q025',\n",
    "]"
   ]
  },
  {
   "cell_type": "code",
   "execution_count": 5,
   "metadata": {},
   "outputs": [],
   "source": [
    "arquivo = '../Iniciação Científica/Códigos/microdados_tratado.csv'\n",
    "\n",
    "microdados = pd.read_csv(arquivo, sep=';', encoding='ISO-8859-1')\n",
    "\n",
    "dtypes = pd.read_json(\"dtypes.json\", typ='series')\n",
    "microdados = microdados.astype(dtypes)\n",
    "\n",
    "microdados = microdados[colunas_desejadas]\n",
    "\n",
    "# microdados = microdados[(microdados['TP_PRESENCA_GERAL'] == 1) & (microdados['NU_MEDIA_GERAL'] != -1)]\n",
    "\n",
    "microdados = microdados[microdados['NU_MEDIA_GERAL'] != -1]\n",
    "\n",
    "microdados = microdados.sample(200000, random_state=42)\n",
    "\n",
    "\n",
    "\n",
    "microdados.to_csv('sample.csv', sep=';', index=False, encoding='ISO-8859-1')"
   ]
  }
 ],
 "metadata": {
  "kernelspec": {
   "display_name": "Python 3",
   "language": "python",
   "name": "python3"
  },
  "language_info": {
   "codemirror_mode": {
    "name": "ipython",
    "version": 3
   },
   "file_extension": ".py",
   "mimetype": "text/x-python",
   "name": "python",
   "nbconvert_exporter": "python",
   "pygments_lexer": "ipython3",
   "version": "3.12.6"
  }
 },
 "nbformat": 4,
 "nbformat_minor": 2
}
