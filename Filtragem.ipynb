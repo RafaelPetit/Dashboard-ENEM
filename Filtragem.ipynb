{
 "cells": [
  {
   "cell_type": "code",
   "execution_count": 1,
   "metadata": {},
   "outputs": [
    {
     "data": {
      "text/html": [
       "\n",
       "            <div>\n",
       "                <ins><a href=\"https://ydata.ai/register\">Upgrade to ydata-sdk</a></ins>\n",
       "                <p>\n",
       "                    Improve your data and profiling with ydata-sdk, featuring data quality scoring, redundancy detection, outlier identification, text validation, and synthetic data generation.\n",
       "                </p>\n",
       "            </div>\n",
       "            "
      ],
      "text/plain": [
       "<IPython.core.display.HTML object>"
      ]
     },
     "metadata": {},
     "output_type": "display_data"
    }
   ],
   "source": [
    "import pandas as pd\n",
    "from ydata_profiling import ProfileReport"
   ]
  },
  {
   "cell_type": "code",
   "execution_count": 2,
   "metadata": {},
   "outputs": [],
   "source": [
    "colunas_geral = [\n",
    "    # Localização\n",
    "    'SG_UF_PROVA',\n",
    "    \n",
    "    # Presença\n",
    "    'TP_PRESENCA_CN', \n",
    "    'TP_PRESENCA_CH', \n",
    "    'TP_PRESENCA_LC', \n",
    "    'TP_PRESENCA_MT',\n",
    "    'TP_PRESENCA_GERAL',\n",
    "    'TP_PRESENCA_REDACAO',\n",
    "    \n",
    "    # Notas\n",
    "    'NU_NOTA_CN', \n",
    "    'NU_NOTA_CH', \n",
    "    'NU_NOTA_LC', \n",
    "    'NU_NOTA_MT',\n",
    "    'NU_NOTA_REDACAO'\n",
    "]\n",
    "\n",
    "colunas_aspectos_sociais = [\n",
    "    # Localização\n",
    "    'SG_UF_PROVA',\n",
    "    \n",
    "    # Variáveis sociais\n",
    "    'TP_SEXO',\n",
    "    'TP_COR_RACA',\n",
    "    'TP_ESTADO_CIVIL',\n",
    "    'TP_FAIXA_ETARIA',\n",
    "    'TP_ST_CONCLUSAO',\n",
    "    'TP_DEPENDENCIA_ADM_ESC',\n",
    "    'TP_ESCOLA',\n",
    "    'TP_ENSINO',\n",
    "    'TP_LOCALIZACAO_ESC',\n",
    "    'TP_FAIXA_SALARIAL',\n",
    "    \n",
    "    # Questões socioeconômicas\n",
    "    'Q001', 'Q002', 'Q005', 'Q006', 'Q025',\n",
    "    \n",
    "    # Infraestrutura\n",
    "    'NU_INFRAESTRUTURA'\n",
    "]\n",
    "\n",
    "colunas_desempenho = [\n",
    "    # Localização\n",
    "    'SG_UF_PROVA',\n",
    "    \n",
    "    # Características do candidato\n",
    "    'TP_SEXO',\n",
    "    'TP_COR_RACA',\n",
    "    'TP_DEPENDENCIA_ADM_ESC',\n",
    "    'TP_ST_CONCLUSAO',\n",
    "    'TP_FAIXA_ETARIA',\n",
    "    \n",
    "    # Notas\n",
    "    'NU_NOTA_CN', \n",
    "    'NU_NOTA_CH', \n",
    "    'NU_NOTA_LC', \n",
    "    'NU_NOTA_MT',\n",
    "    'NU_NOTA_REDACAO',\n",
    "    \n",
    "    # Categorias de desempenho\n",
    "    'NU_DESEMPENHO',\n",
    "    'TP_FAIXA_SALARIAL',\n",
    "\n",
    "    # Questões socioeconômicas\n",
    "    'Q001',\n",
    "    'Q002',\n",
    "    'Q005',\n",
    "    'Q025'\n",
    "]"
   ]
  },
  {
   "cell_type": "code",
   "execution_count": 3,
   "metadata": {},
   "outputs": [
    {
     "ename": "KeyError",
     "evalue": "\"['TP_ESCOLA'] not in index\"",
     "output_type": "error",
     "traceback": [
      "\u001b[1;31m---------------------------------------------------------------------------\u001b[0m",
      "\u001b[1;31mKeyError\u001b[0m                                  Traceback (most recent call last)",
      "Cell \u001b[1;32mIn[3], line 13\u001b[0m\n\u001b[0;32m     11\u001b[0m \u001b[38;5;66;03m# Criar arquivos separados para cada aba\u001b[39;00m\n\u001b[0;32m     12\u001b[0m microdados[colunas_geral]\u001b[38;5;241m.\u001b[39mto_parquet(\u001b[38;5;124m'\u001b[39m\u001b[38;5;124msample_geral.parquet\u001b[39m\u001b[38;5;124m'\u001b[39m, index\u001b[38;5;241m=\u001b[39m\u001b[38;5;28;01mFalse\u001b[39;00m)\n\u001b[1;32m---> 13\u001b[0m \u001b[43mmicrodados\u001b[49m\u001b[43m[\u001b[49m\u001b[43mcolunas_aspectos_sociais\u001b[49m\u001b[43m]\u001b[49m\u001b[38;5;241m.\u001b[39mto_parquet(\u001b[38;5;124m'\u001b[39m\u001b[38;5;124msample_aspectos_sociais.parquet\u001b[39m\u001b[38;5;124m'\u001b[39m, index\u001b[38;5;241m=\u001b[39m\u001b[38;5;28;01mFalse\u001b[39;00m)\n\u001b[0;32m     14\u001b[0m microdados[colunas_desempenho]\u001b[38;5;241m.\u001b[39mto_parquet(\u001b[38;5;124m'\u001b[39m\u001b[38;5;124msample_desempenho.parquet\u001b[39m\u001b[38;5;124m'\u001b[39m, index\u001b[38;5;241m=\u001b[39m\u001b[38;5;28;01mFalse\u001b[39;00m)\n\u001b[0;32m     16\u001b[0m \u001b[38;5;66;03m# Criar arquivos dtypes separados\u001b[39;00m\n",
      "File \u001b[1;32mc:\\Users\\user\\AppData\\Local\\Programs\\Python\\Python312\\Lib\\site-packages\\pandas\\core\\frame.py:4108\u001b[0m, in \u001b[0;36mDataFrame.__getitem__\u001b[1;34m(self, key)\u001b[0m\n\u001b[0;32m   4106\u001b[0m     \u001b[38;5;28;01mif\u001b[39;00m is_iterator(key):\n\u001b[0;32m   4107\u001b[0m         key \u001b[38;5;241m=\u001b[39m \u001b[38;5;28mlist\u001b[39m(key)\n\u001b[1;32m-> 4108\u001b[0m     indexer \u001b[38;5;241m=\u001b[39m \u001b[38;5;28;43mself\u001b[39;49m\u001b[38;5;241;43m.\u001b[39;49m\u001b[43mcolumns\u001b[49m\u001b[38;5;241;43m.\u001b[39;49m\u001b[43m_get_indexer_strict\u001b[49m\u001b[43m(\u001b[49m\u001b[43mkey\u001b[49m\u001b[43m,\u001b[49m\u001b[43m \u001b[49m\u001b[38;5;124;43m\"\u001b[39;49m\u001b[38;5;124;43mcolumns\u001b[39;49m\u001b[38;5;124;43m\"\u001b[39;49m\u001b[43m)\u001b[49m[\u001b[38;5;241m1\u001b[39m]\n\u001b[0;32m   4110\u001b[0m \u001b[38;5;66;03m# take() does not accept boolean indexers\u001b[39;00m\n\u001b[0;32m   4111\u001b[0m \u001b[38;5;28;01mif\u001b[39;00m \u001b[38;5;28mgetattr\u001b[39m(indexer, \u001b[38;5;124m\"\u001b[39m\u001b[38;5;124mdtype\u001b[39m\u001b[38;5;124m\"\u001b[39m, \u001b[38;5;28;01mNone\u001b[39;00m) \u001b[38;5;241m==\u001b[39m \u001b[38;5;28mbool\u001b[39m:\n",
      "File \u001b[1;32mc:\\Users\\user\\AppData\\Local\\Programs\\Python\\Python312\\Lib\\site-packages\\pandas\\core\\indexes\\base.py:6200\u001b[0m, in \u001b[0;36mIndex._get_indexer_strict\u001b[1;34m(self, key, axis_name)\u001b[0m\n\u001b[0;32m   6197\u001b[0m \u001b[38;5;28;01melse\u001b[39;00m:\n\u001b[0;32m   6198\u001b[0m     keyarr, indexer, new_indexer \u001b[38;5;241m=\u001b[39m \u001b[38;5;28mself\u001b[39m\u001b[38;5;241m.\u001b[39m_reindex_non_unique(keyarr)\n\u001b[1;32m-> 6200\u001b[0m \u001b[38;5;28;43mself\u001b[39;49m\u001b[38;5;241;43m.\u001b[39;49m\u001b[43m_raise_if_missing\u001b[49m\u001b[43m(\u001b[49m\u001b[43mkeyarr\u001b[49m\u001b[43m,\u001b[49m\u001b[43m \u001b[49m\u001b[43mindexer\u001b[49m\u001b[43m,\u001b[49m\u001b[43m \u001b[49m\u001b[43maxis_name\u001b[49m\u001b[43m)\u001b[49m\n\u001b[0;32m   6202\u001b[0m keyarr \u001b[38;5;241m=\u001b[39m \u001b[38;5;28mself\u001b[39m\u001b[38;5;241m.\u001b[39mtake(indexer)\n\u001b[0;32m   6203\u001b[0m \u001b[38;5;28;01mif\u001b[39;00m \u001b[38;5;28misinstance\u001b[39m(key, Index):\n\u001b[0;32m   6204\u001b[0m     \u001b[38;5;66;03m# GH 42790 - Preserve name from an Index\u001b[39;00m\n",
      "File \u001b[1;32mc:\\Users\\user\\AppData\\Local\\Programs\\Python\\Python312\\Lib\\site-packages\\pandas\\core\\indexes\\base.py:6252\u001b[0m, in \u001b[0;36mIndex._raise_if_missing\u001b[1;34m(self, key, indexer, axis_name)\u001b[0m\n\u001b[0;32m   6249\u001b[0m     \u001b[38;5;28;01mraise\u001b[39;00m \u001b[38;5;167;01mKeyError\u001b[39;00m(\u001b[38;5;124mf\u001b[39m\u001b[38;5;124m\"\u001b[39m\u001b[38;5;124mNone of [\u001b[39m\u001b[38;5;132;01m{\u001b[39;00mkey\u001b[38;5;132;01m}\u001b[39;00m\u001b[38;5;124m] are in the [\u001b[39m\u001b[38;5;132;01m{\u001b[39;00maxis_name\u001b[38;5;132;01m}\u001b[39;00m\u001b[38;5;124m]\u001b[39m\u001b[38;5;124m\"\u001b[39m)\n\u001b[0;32m   6251\u001b[0m not_found \u001b[38;5;241m=\u001b[39m \u001b[38;5;28mlist\u001b[39m(ensure_index(key)[missing_mask\u001b[38;5;241m.\u001b[39mnonzero()[\u001b[38;5;241m0\u001b[39m]]\u001b[38;5;241m.\u001b[39munique())\n\u001b[1;32m-> 6252\u001b[0m \u001b[38;5;28;01mraise\u001b[39;00m \u001b[38;5;167;01mKeyError\u001b[39;00m(\u001b[38;5;124mf\u001b[39m\u001b[38;5;124m\"\u001b[39m\u001b[38;5;132;01m{\u001b[39;00mnot_found\u001b[38;5;132;01m}\u001b[39;00m\u001b[38;5;124m not in index\u001b[39m\u001b[38;5;124m\"\u001b[39m)\n",
      "\u001b[1;31mKeyError\u001b[0m: \"['TP_ESCOLA'] not in index\""
     ]
    }
   ],
   "source": [
    "# Carregar microdados completos\n",
    "arquivo = '../Iniciação Científica/Códigos/microdados_tratado.parquet'\n",
    "\n",
    "microdados = pd.read_parquet(arquivo)\n",
    "\n",
    "dtypes = pd.read_json(\"dtypes.json\", typ='series')\n",
    "microdados = microdados.astype(dtypes)\n",
    "\n",
    "microdados = microdados.sample(frac=0.1, random_state=42)  # Amostra de 10% dos dados\n",
    "\n",
    "# Criar arquivos separados para cada aba\n",
    "microdados[colunas_geral].to_parquet('sample_geral.parquet', index=False)\n",
    "microdados[colunas_aspectos_sociais].to_parquet('sample_aspectos_sociais.parquet', index=False)\n",
    "microdados[colunas_desempenho].to_parquet('sample_desempenho.parquet', index=False)\n",
    "\n",
    "# Criar arquivos dtypes separados\n",
    "dtypes_geral = {col: str(microdados[col].dtype) for col in colunas_geral if col in microdados.columns}\n",
    "dtypes_aspectos = {col: str(microdados[col].dtype) for col in colunas_aspectos_sociais if col in microdados.columns}\n",
    "dtypes_desempenho = {col: str(microdados[col].dtype) for col in colunas_desempenho if col in microdados.columns}\n",
    "\n",
    "pd.Series(dtypes_geral).to_json('dtypes_geral.json')\n",
    "pd.Series(dtypes_aspectos).to_json('dtypes_aspectos_sociais.json')\n",
    "pd.Series(dtypes_desempenho).to_json('dtypes_desempenho.json')"
   ]
  },
  {
   "cell_type": "code",
   "execution_count": null,
   "metadata": {},
   "outputs": [],
   "source": [
    "# arquivo = '../Iniciação Científica/Códigos/microdados_tratado.parquet'\n",
    "\n",
    "# microdados = pd.read_parquet(arquivo, engine='pyarrow',)\n",
    "\n",
    "# dtypes = pd.read_json(\"dtypes.json\", typ='series')\n",
    "# microdados = microdados.astype(dtypes)\n",
    "\n",
    "# microdados = microdados[colunas_desejadas]\n",
    "\n",
    "# microdados = microdados[(microdados['TP_PRESENCA_GERAL'] == 1) & (microdados['NU_MEDIA_GERAL'] != -1)]\n",
    "\n",
    "# microdados = microdados[microdados['NU_MEDIA_GERAL'] != -1]\n",
    "\n",
    "# microdados = microdados.sample(938488, random_state=42)\n",
    "\n",
    "# microdados.to_parquet('sample.parquet', index=False, engine='pyarrow')"
   ]
  },
  {
   "cell_type": "code",
   "execution_count": null,
   "metadata": {},
   "outputs": [],
   "source": [
    "# df = pd.read_parquet('sample.parquet')\n",
    "# f = df.select_dtypes(include='float16').columns\n",
    "# i = df.select_dtypes(include='int16').columns\n",
    "\n",
    "# df[f] = df[f].astype('float64')\n",
    "# df[i] = df[i].astype('int64')\n",
    "# profile = ProfileReport(df, title=\"Analise microdados\")\n",
    "# profile.to_file(\"exploratoria_original.html\")"
   ]
  }
 ],
 "metadata": {
  "kernelspec": {
   "display_name": "Python 3",
   "language": "python",
   "name": "python3"
  },
  "language_info": {
   "codemirror_mode": {
    "name": "ipython",
    "version": 3
   },
   "file_extension": ".py",
   "mimetype": "text/x-python",
   "name": "python",
   "nbconvert_exporter": "python",
   "pygments_lexer": "ipython3",
   "version": "3.12.6"
  }
 },
 "nbformat": 4,
 "nbformat_minor": 2
}
