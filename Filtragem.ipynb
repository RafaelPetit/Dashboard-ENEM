{
 "cells": [
  {
   "cell_type": "code",
   "execution_count": null,
   "metadata": {},
   "outputs": [],
   "source": [
    "import pandas as pd"
   ]
  },
  {
   "cell_type": "code",
   "execution_count": 6,
   "metadata": {},
   "outputs": [],
   "source": [
    "arquivo = '../Iniciação Científica/Códigos/microdados_tratado.csv'\n",
    "\n",
    "microdados = pd.read_csv(arquivo, sep=';', encoding='ISO-8859-1')\n",
    "\n",
    "dtypes = pd.read_json(\"dtypes.json\", typ='series')\n",
    "microdados = microdados.astype(dtypes)\n",
    "\n",
    "microdados = microdados.sample(10000, random_state=42)\n",
    "\n",
    "microdados = microdados[(microdados['TP_PRESENCA_GERAL'] == 1) & (microdados['NU_MEDIA_GERAL'] != -1)]\n",
    "\n",
    "\n",
    "microdados.to_csv('sample.csv', sep=';', index=False, encoding='ISO-8859-1')"
   ]
  },
  {
   "cell_type": "code",
   "execution_count": 8,
   "metadata": {},
   "outputs": [
    {
     "data": {
      "text/plain": [
       "array([498.1 , 542.9 , 445.3 , ..., 402.75, 523.8 , 701.9 ])"
      ]
     },
     "execution_count": 8,
     "metadata": {},
     "output_type": "execute_result"
    }
   ],
   "source": [
    "microdados['NU_MEDIA_GERAL'].unique()"
   ]
  },
  {
   "cell_type": "code",
   "execution_count": null,
   "metadata": {},
   "outputs": [],
   "source": []
  }
 ],
 "metadata": {
  "kernelspec": {
   "display_name": "Python 3",
   "language": "python",
   "name": "python3"
  },
  "language_info": {
   "codemirror_mode": {
    "name": "ipython",
    "version": 3
   },
   "file_extension": ".py",
   "mimetype": "text/x-python",
   "name": "python",
   "nbconvert_exporter": "python",
   "pygments_lexer": "ipython3",
   "version": "3.12.6"
  }
 },
 "nbformat": 4,
 "nbformat_minor": 2
}
