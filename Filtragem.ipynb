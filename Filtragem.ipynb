{
 "cells": [
  {
   "cell_type": "code",
   "execution_count": 1,
   "metadata": {},
   "outputs": [
    {
     "data": {
      "text/html": [
       "\n",
       "            <div>\n",
       "                <ins><a href=\"https://ydata.ai/register\">Upgrade to ydata-sdk</a></ins>\n",
       "                <p>\n",
       "                    Improve your data and profiling with ydata-sdk, featuring data quality scoring, redundancy detection, outlier identification, text validation, and synthetic data generation.\n",
       "                </p>\n",
       "            </div>\n",
       "            "
      ],
      "text/plain": [
       "<IPython.core.display.HTML object>"
      ]
     },
     "metadata": {},
     "output_type": "display_data"
    }
   ],
   "source": [
    "import pandas as pd\n",
    "from ydata_profiling import ProfileReport"
   ]
  },
  {
   "cell_type": "code",
   "execution_count": null,
   "metadata": {},
   "outputs": [],
   "source": [
    "# colunas_desejadas = [\n",
    "# 'TP_FAIXA_ETARIA',\n",
    "# 'TP_SEXO',\n",
    "# 'TP_ESTADO_CIVIL',\n",
    "# 'TP_COR_RACA',\n",
    "# 'TP_DEPENDENCIA_ADM_ESC',\n",
    "# 'TP_ST_CONCLUSAO',\n",
    "# 'SG_UF_PROVA',\n",
    "# 'TP_PRESENCA_CN',\n",
    "# 'TP_PRESENCA_CH',\n",
    "# 'TP_PRESENCA_LC',\n",
    "# 'TP_PRESENCA_MT',\n",
    "# 'NU_NOTA_CN',\n",
    "# 'NU_NOTA_CH',\n",
    "# 'NU_NOTA_LC',\n",
    "# 'NU_NOTA_MT',\n",
    "# 'NU_NOTA_REDACAO',\n",
    "# 'TP_PRESENCA_GERAL',\n",
    "# 'NU_DESEMPENHO',\n",
    "# 'NU_INFRAESTRUTURA',\n",
    "# 'NU_MEDIA_GERAL',\n",
    "# 'Q001',\n",
    "# 'Q002',\n",
    "# 'Q005',\n",
    "# 'Q006',\n",
    "# 'Q025',\n",
    "# ]"
   ]
  },
  {
   "cell_type": "code",
   "execution_count": 6,
   "metadata": {},
   "outputs": [],
   "source": [
    "colunas_geral = [\n",
    "    # Localização\n",
    "    'SG_UF_PROVA',\n",
    "    \n",
    "    # Presença\n",
    "    'TP_PRESENCA_CN', \n",
    "    'TP_PRESENCA_CH', \n",
    "    'TP_PRESENCA_LC', \n",
    "    'TP_PRESENCA_MT',\n",
    "    'TP_PRESENCA_GERAL',\n",
    "    'TP_PRESENCA_REDACAO',\n",
    "    \n",
    "    # Notas\n",
    "    'NU_NOTA_CN', \n",
    "    'NU_NOTA_CH', \n",
    "    'NU_NOTA_LC', \n",
    "    'NU_NOTA_MT',\n",
    "    'NU_NOTA_REDACAO'\n",
    "]\n",
    "\n",
    "colunas_aspectos_sociais = [\n",
    "    # Localização\n",
    "    'SG_UF_PROVA',\n",
    "    \n",
    "    # Variáveis sociais\n",
    "    'TP_SEXO',\n",
    "    'TP_COR_RACA',\n",
    "    'TP_ESTADO_CIVIL',\n",
    "    'TP_FAIXA_ETARIA',\n",
    "    'TP_ST_CONCLUSAO',\n",
    "    'TP_DEPENDENCIA_ADM_ESC',\n",
    "    \n",
    "    # Questões socioeconômicas\n",
    "    'Q001', 'Q002', 'Q005', 'Q006', 'Q025',\n",
    "    \n",
    "    # Infraestrutura\n",
    "    'NU_INFRAESTRUTURA'\n",
    "]\n",
    "\n",
    "colunas_desempenho = [\n",
    "    # Localização\n",
    "    'SG_UF_PROVA',\n",
    "    \n",
    "    # Características do candidato\n",
    "    'TP_SEXO',\n",
    "    'TP_COR_RACA',\n",
    "    'TP_DEPENDENCIA_ADM_ESC',\n",
    "    \n",
    "    # Notas\n",
    "    'NU_NOTA_CN', \n",
    "    'NU_NOTA_CH', \n",
    "    'NU_NOTA_LC', \n",
    "    'NU_NOTA_MT',\n",
    "    'NU_NOTA_REDACAO',\n",
    "    \n",
    "    # Categorias de desempenho\n",
    "    'NU_DESEMPENHO'\n",
    "]"
   ]
  },
  {
   "cell_type": "code",
   "execution_count": 7,
   "metadata": {},
   "outputs": [],
   "source": [
    "# Carregar microdados completos\n",
    "arquivo = '../Iniciação Científica/Códigos/microdados_tratado.parquet'\n",
    "\n",
    "microdados = pd.read_parquet(arquivo)\n",
    "\n",
    "dtypes = pd.read_json(\"dtypes.json\", typ='series')\n",
    "microdados = microdados.astype(dtypes)\n",
    "\n",
    "# Criar arquivos separados para cada aba\n",
    "microdados[colunas_geral].to_parquet('sample_geral.parquet', index=False)\n",
    "microdados[colunas_aspectos_sociais].to_parquet('sample_aspectos_sociais.parquet', index=False)\n",
    "microdados[colunas_desempenho].to_parquet('sample_desempenho.parquet', index=False)\n",
    "\n",
    "# Criar arquivos dtypes separados\n",
    "dtypes_geral = {col: str(microdados[col].dtype) for col in colunas_geral if col in microdados.columns}\n",
    "dtypes_aspectos = {col: str(microdados[col].dtype) for col in colunas_aspectos_sociais if col in microdados.columns}\n",
    "dtypes_desempenho = {col: str(microdados[col].dtype) for col in colunas_desempenho if col in microdados.columns}\n",
    "\n",
    "pd.Series(dtypes_geral).to_json('dtypes_geral.json')\n",
    "pd.Series(dtypes_aspectos).to_json('dtypes_aspectos_sociais.json')\n",
    "pd.Series(dtypes_desempenho).to_json('dtypes_desempenho.json')"
   ]
  },
  {
   "cell_type": "code",
   "execution_count": null,
   "metadata": {},
   "outputs": [],
   "source": [
    "# arquivo = '../Iniciação Científica/Códigos/microdados_tratado.parquet'\n",
    "\n",
    "# microdados = pd.read_parquet(arquivo, engine='pyarrow',)\n",
    "\n",
    "# dtypes = pd.read_json(\"dtypes.json\", typ='series')\n",
    "# microdados = microdados.astype(dtypes)\n",
    "\n",
    "# microdados = microdados[colunas_desejadas]\n",
    "\n",
    "# microdados = microdados[(microdados['TP_PRESENCA_GERAL'] == 1) & (microdados['NU_MEDIA_GERAL'] != -1)]\n",
    "\n",
    "# microdados = microdados[microdados['NU_MEDIA_GERAL'] != -1]\n",
    "\n",
    "# microdados = microdados.sample(938488, random_state=42)\n",
    "\n",
    "# microdados.to_parquet('sample.parquet', index=False, engine='pyarrow')"
   ]
  },
  {
   "cell_type": "code",
   "execution_count": null,
   "metadata": {},
   "outputs": [],
   "source": [
    "# df = pd.read_parquet('sample.parquet')\n",
    "# f = df.select_dtypes(include='float16').columns\n",
    "# i = df.select_dtypes(include='int16').columns\n",
    "\n",
    "# df[f] = df[f].astype('float64')\n",
    "# df[i] = df[i].astype('int64')\n",
    "# profile = ProfileReport(df, title=\"Analise microdados\")\n",
    "# profile.to_file(\"exploratoria_original.html\")"
   ]
  }
 ],
 "metadata": {
  "kernelspec": {
   "display_name": "Python 3",
   "language": "python",
   "name": "python3"
  },
  "language_info": {
   "codemirror_mode": {
    "name": "ipython",
    "version": 3
   },
   "file_extension": ".py",
   "mimetype": "text/x-python",
   "name": "python",
   "nbconvert_exporter": "python",
   "pygments_lexer": "ipython3",
   "version": "3.12.6"
  }
 },
 "nbformat": 4,
 "nbformat_minor": 2
}
