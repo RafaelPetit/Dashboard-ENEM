{
 "cells": [
  {
   "cell_type": "code",
   "execution_count": 37,
   "metadata": {},
   "outputs": [],
   "source": [
    "import pandas as pd\n",
    "import json"
   ]
  },
  {
   "cell_type": "code",
   "execution_count": 38,
   "metadata": {},
   "outputs": [],
   "source": [
    "colunas_localizacao = [\n",
    "    # Localização\n",
    "    'SG_UF_PROVA',\n",
    "    'SG_REGIAO',\n",
    "]\n",
    "\n",
    "colunas_geral = [\n",
    "    'SG_UF_PROVA',\n",
    "    'SG_REGIAO',\n",
    "\n",
    "    # Presença\n",
    "    'TP_PRESENCA_CN', \n",
    "    'TP_PRESENCA_CH', \n",
    "    'TP_PRESENCA_LC', \n",
    "    'TP_PRESENCA_MT',\n",
    "    'TP_PRESENCA_GERAL',\n",
    "    'TP_PRESENCA_REDACAO',\n",
    "\n",
    "    # Notas\n",
    "    'NU_NOTA_CN', \n",
    "    'NU_NOTA_CH', \n",
    "    'NU_NOTA_LC', \n",
    "    'NU_NOTA_MT',\n",
    "    'NU_NOTA_REDACAO'\n",
    "    ]\n",
    "\n",
    "colunas_aspectos_sociais = [\n",
    "    'SG_UF_PROVA',\n",
    "    'SG_REGIAO',\n",
    "\n",
    "    # Variáveis sociais\n",
    "    'TP_SEXO',\n",
    "    'TP_COR_RACA',\n",
    "    'TP_ESTADO_CIVIL',\n",
    "    'TP_FAIXA_ETARIA',\n",
    "    'TP_ST_CONCLUSAO',\n",
    "    'TP_DEPENDENCIA_ADM_ESC',\n",
    "    'TP_ESCOLA',\n",
    "    'TP_ENSINO',\n",
    "    'TP_LOCALIZACAO_ESC',\n",
    "    'TP_NACIONALIDADE',\n",
    "    \n",
    "    \n",
    "    # Questões socioeconômicas\n",
    "    'Q001', \n",
    "    'Q002', \n",
    "    'Q005', \n",
    "    'TP_FAIXA_SALARIAL', \n",
    "    'Q025',\n",
    "    \n",
    "    # Infraestrutura\n",
    "    'NU_INFRAESTRUTURA'\n",
    "    ]\n",
    "\n",
    "colunas_desempenho = [\n",
    "    'SG_UF_PROVA',\n",
    "    'SG_REGIAO',\n",
    "    \n",
    "    # Características do candidato\n",
    "    'TP_SEXO',\n",
    "    'TP_COR_RACA',\n",
    "    'TP_DEPENDENCIA_ADM_ESC',\n",
    "    'TP_ST_CONCLUSAO',\n",
    "    'TP_FAIXA_ETARIA',\n",
    "    'TP_ESTADO_CIVIL',\n",
    "    'TP_ESCOLA',\n",
    "    'TP_ENSINO',\n",
    "    'TP_LOCALIZACAO_ESC',\n",
    "    'TP_NACIONALIDADE',\n",
    "    'NU_INFRAESTRUTURA',\n",
    "    \n",
    "    # Notas\n",
    "    'NU_NOTA_CN', \n",
    "    'NU_NOTA_CH', \n",
    "    'NU_NOTA_LC', \n",
    "    'NU_NOTA_MT',\n",
    "    'NU_NOTA_REDACAO',\n",
    "    \n",
    "    # Categorias de desempenho\n",
    "    'NU_DESEMPENHO',\n",
    "\n",
    "    # Questões socioeconômicas\n",
    "    'Q001',\n",
    "    'Q002',\n",
    "    'Q005',\n",
    "    'TP_FAIXA_SALARIAL',\n",
    "    'Q025'\n",
    "    ]"
   ]
  },
  {
   "cell_type": "code",
   "execution_count": 39,
   "metadata": {},
   "outputs": [
    {
     "data": {
      "text/plain": [
       "{'NU_DESEMPENHO',\n",
       " 'NU_INFRAESTRUTURA',\n",
       " 'NU_NOTA_CH',\n",
       " 'NU_NOTA_CN',\n",
       " 'NU_NOTA_LC',\n",
       " 'NU_NOTA_MT',\n",
       " 'NU_NOTA_REDACAO',\n",
       " 'Q001',\n",
       " 'Q002',\n",
       " 'Q005',\n",
       " 'Q025',\n",
       " 'SG_REGIAO',\n",
       " 'SG_UF_PROVA',\n",
       " 'TP_COR_RACA',\n",
       " 'TP_DEPENDENCIA_ADM_ESC',\n",
       " 'TP_ENSINO',\n",
       " 'TP_ESCOLA',\n",
       " 'TP_ESTADO_CIVIL',\n",
       " 'TP_FAIXA_ETARIA',\n",
       " 'TP_FAIXA_SALARIAL',\n",
       " 'TP_LOCALIZACAO_ESC',\n",
       " 'TP_NACIONALIDADE',\n",
       " 'TP_PRESENCA_CH',\n",
       " 'TP_PRESENCA_CN',\n",
       " 'TP_PRESENCA_GERAL',\n",
       " 'TP_PRESENCA_LC',\n",
       " 'TP_PRESENCA_MT',\n",
       " 'TP_PRESENCA_REDACAO',\n",
       " 'TP_SEXO',\n",
       " 'TP_ST_CONCLUSAO'}"
      ]
     },
     "execution_count": 39,
     "metadata": {},
     "output_type": "execute_result"
    }
   ],
   "source": [
    "todas = set(colunas_localizacao + colunas_geral + colunas_aspectos_sociais + colunas_desempenho)\n",
    "todas"
   ]
  },
  {
   "cell_type": "code",
   "execution_count": 40,
   "metadata": {},
   "outputs": [],
   "source": [
    "# Carregar microdados completos\n",
    "arquivo = '../../Iniciação Científica/Códigos/microdados_tratado.parquet'\n",
    "arquivo_dtypes = '../../Iniciação Científica/Códigos/dtypes.json'\n",
    "\n",
    "# Especificar explicitamente o engine\n",
    "microdados = pd.read_parquet(arquivo, engine='pyarrow')\n",
    "\n",
    "dtypes = pd.read_json(arquivo_dtypes, orient='index', typ='series')\n",
    "\n",
    "microdados = microdados.astype(dtypes)\n"
   ]
  },
  {
   "cell_type": "code",
   "execution_count": 41,
   "metadata": {},
   "outputs": [],
   "source": [
    "microdados = microdados[microdados['SG_REGIAO'].isin(['Sul', 'Sudeste', 'Centro-Oeste'])]"
   ]
  },
  {
   "cell_type": "code",
   "execution_count": 42,
   "metadata": {},
   "outputs": [],
   "source": [
    "# Colunas desempenho sem notas zeros e range de começando de 100\n",
    "microdados_desempenho = microdados.copy()\n",
    "\n",
    "microdados_desempenho = microdados_desempenho[(microdados_desempenho['TP_PRESENCA_GERAL'] == 3) & (microdados_desempenho['NU_MEDIA_GERAL'] != -1)]\n",
    "\n",
    "microdados_desempenho = microdados_desempenho[microdados_desempenho['NU_MEDIA_GERAL'] != -1]\n",
    "\n",
    "# Filtrar onde todas as notas são >= 100\n",
    "colunas_notas = ['NU_NOTA_CN', 'NU_NOTA_CH', 'NU_NOTA_LC', 'NU_NOTA_MT', 'NU_NOTA_REDACAO', 'NU_MEDIA_GERAL']\n",
    "condicao = True\n",
    "for col in colunas_notas:\n",
    "    condicao = condicao & (microdados_desempenho[col] >= 100)\n",
    "\n",
    "microdados_desempenho = microdados_desempenho[condicao]"
   ]
  },
  {
   "cell_type": "code",
   "execution_count": 43,
   "metadata": {},
   "outputs": [],
   "source": [
    "\n",
    "# Criar arquivos separados para cada aba\n",
    "microdados[colunas_localizacao].to_parquet('sample_localizacao.parquet', index=False, engine='pyarrow')\n",
    "microdados[colunas_geral].to_parquet('sample_geral.parquet', index=False, engine='pyarrow')\n",
    "microdados[colunas_aspectos_sociais].to_parquet('sample_aspectos_sociais.parquet', index=False, engine='pyarrow')\n",
    "microdados_desempenho[colunas_desempenho].to_parquet('sample_desempenho.parquet', index=False, engine='pyarrow')\n",
    "\n",
    "# Criar arquivos dtypes separados\n",
    "dtypes_localizacao = {col: str(microdados[col].dtype) for col in colunas_localizacao if col in microdados.columns}\n",
    "dtypes_geral = {col: str(microdados[col].dtype) for col in colunas_geral if col in microdados.columns}\n",
    "dtypes_aspectos = {col: str(microdados[col].dtype) for col in colunas_aspectos_sociais if col in microdados.columns}\n",
    "dtypes_desempenho = {col: str(microdados[col].dtype) for col in colunas_desempenho if col in microdados.columns}\n",
    "\n",
    "# Usar json module em vez do pandas to_json para evitar problemas de serialização\n",
    "# Salva o mapeamento em um arquivo JSON\n",
    "\n",
    "with open('dtypes_localizacao.json', 'w') as f:\n",
    "    json.dump(dtypes_localizacao, f)\n",
    "with open('dtypes_geral.json', 'w') as f:\n",
    "    json.dump(dtypes_geral, f)\n",
    "with open('dtypes_aspectos_sociais.json', 'w') as f:\n",
    "    json.dump(dtypes_aspectos, f)\n",
    "with open('dtypes_desempenho.json', 'w') as f:\n",
    "    json.dump(dtypes_desempenho, f)\n",
    "with open('dtypes.json', 'w') as f:\n",
    "    json.dump(dtypes.to_dict(), f)"
   ]
  },
  {
   "cell_type": "code",
   "execution_count": 44,
   "metadata": {},
   "outputs": [
    {
     "name": "stdout",
     "output_type": "stream",
     "text": [
      "<class 'pandas.core.frame.DataFrame'>\n",
      "Index: 2056502 entries, 0 to 3933954\n",
      "Data columns (total 31 columns):\n",
      " #   Column                  Dtype   \n",
      "---  ------                  -----   \n",
      " 0   TP_FAIXA_ETARIA         category\n",
      " 1   TP_SEXO                 category\n",
      " 2   TP_ESTADO_CIVIL         category\n",
      " 3   TP_COR_RACA             category\n",
      " 4   TP_NACIONALIDADE        category\n",
      " 5   TP_ST_CONCLUSAO         category\n",
      " 6   TP_ESCOLA               category\n",
      " 7   TP_ENSINO               category\n",
      " 8   TP_DEPENDENCIA_ADM_ESC  category\n",
      " 9   TP_LOCALIZACAO_ESC      category\n",
      " 10  SG_UF_PROVA             category\n",
      " 11  TP_PRESENCA_CN          category\n",
      " 12  TP_PRESENCA_CH          category\n",
      " 13  TP_PRESENCA_LC          category\n",
      " 14  TP_PRESENCA_MT          category\n",
      " 15  NU_NOTA_CN              int16   \n",
      " 16  NU_NOTA_CH              int16   \n",
      " 17  NU_NOTA_LC              int16   \n",
      " 18  NU_NOTA_MT              int16   \n",
      " 19  NU_NOTA_REDACAO         int16   \n",
      " 20  Q001                    category\n",
      " 21  Q002                    category\n",
      " 22  Q005                    category\n",
      " 23  Q025                    category\n",
      " 24  NU_MEDIA_GERAL          float16 \n",
      " 25  SG_REGIAO               category\n",
      " 26  NU_DESEMPENHO           category\n",
      " 27  TP_PRESENCA_REDACAO     category\n",
      " 28  TP_PRESENCA_GERAL       category\n",
      " 29  NU_INFRAESTRUTURA       category\n",
      " 30  TP_FAIXA_SALARIAL       category\n",
      "dtypes: category(25), float16(1), int16(5)\n",
      "memory usage: 88.3 MB\n"
     ]
    }
   ],
   "source": [
    "microdados.info()"
   ]
  },
  {
   "cell_type": "code",
   "execution_count": 45,
   "metadata": {},
   "outputs": [
    {
     "data": {
      "text/plain": [
       "np.int16(10000)"
      ]
     },
     "execution_count": 45,
     "metadata": {},
     "output_type": "execute_result"
    }
   ],
   "source": [
    "microdados['NU_NOTA_REDACAO'].max()"
   ]
  }
 ],
 "metadata": {
  "kernelspec": {
   "display_name": ".venv",
   "language": "python",
   "name": "python3"
  },
  "language_info": {
   "codemirror_mode": {
    "name": "ipython",
    "version": 3
   },
   "file_extension": ".py",
   "mimetype": "text/x-python",
   "name": "python",
   "nbconvert_exporter": "python",
   "pygments_lexer": "ipython3",
   "version": "3.13.5"
  }
 },
 "nbformat": 4,
 "nbformat_minor": 2
}
